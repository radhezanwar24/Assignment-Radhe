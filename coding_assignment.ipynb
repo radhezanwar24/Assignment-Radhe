{
  "nbformat": 4,
  "nbformat_minor": 0,
  "metadata": {
    "colab": {
      "provenance": []
    },
    "kernelspec": {
      "name": "python3",
      "display_name": "Python 3"
    },
    "language_info": {
      "name": "python"
    }
  },
  "cells": [
    {
      "cell_type": "code",
      "execution_count": 6,
      "metadata": {
        "colab": {
          "base_uri": "https://localhost:8080/"
        },
        "id": "WsKtv-nOoy6_",
        "outputId": "e7d3b2c6-48ef-495b-ef95-e4e494cfffee"
      },
      "outputs": [
        {
          "output_type": "stream",
          "name": "stdout",
          "text": [
            "Enter the number of jobs:\n",
            "3\n",
            "Enter the job START TIME, END TIME, and PROFIT:\n",
            "0900\n",
            "1030\n",
            "100\n",
            "1000\n",
            "1200\n",
            "100\n",
            "1100\n",
            "1200\n",
            "100\n",
            "The number of tasks and earnings available for others:\n",
            "Remaining Tasks: 1\n",
            "Remaining Earnings: 100\n"
          ]
        }
      ],
      "source": [
        "# -*- coding: utf-8 -*-\n",
        "\"\"\"\n",
        "Optimized Job Scheduling Algorithm\n",
        "\n",
        "This script takes job details (start time, end time, and earnings) as input,\n",
        "and determines the maximum profit that can be earned by scheduling non-overlapping jobs.\n",
        "It also calculates the remaining tasks and earnings available for others.\n",
        "\"\"\"\n",
        "\n",
        "class Job:\n",
        "    \"\"\"\n",
        "    Represents a job with a start time, end time, and profit.\n",
        "    \"\"\"\n",
        "    def __init__(self, start, end, profit):\n",
        "        self.start = start\n",
        "        self.end = end\n",
        "        self.profit = profit\n",
        "\n",
        "def max_profit_jobs(jobs):\n",
        "    \"\"\"\n",
        "    Determines the maximum profit from non-overlapping jobs using Dynamic Programming.\n",
        "    :param jobs: List of Job objects\n",
        "    :return: Maximum profit and list of selected jobs\n",
        "    \"\"\"\n",
        "\n",
        "    # Sort jobs based on their end times to process them in order\n",
        "    jobs.sort(key=lambda x: x.end)\n",
        "\n",
        "    n = len(jobs)\n",
        "    dp = [0] * n  # Array to store max profit at each step\n",
        "    selected_jobs = [[] for _ in range(n)]  # Track selected jobs\n",
        "\n",
        "    # Base case: First job's profit is its own profit\n",
        "    dp[0] = jobs[0].profit\n",
        "    selected_jobs[0].append(jobs[0])\n",
        "\n",
        "    for i in range(1, n):\n",
        "        incl_profit = jobs[i].profit  # Profit if current job is included\n",
        "        last_non_conflict_index = -1  # Index of last non-overlapping job\n",
        "\n",
        "        # Find the last job that does not overlap with the current one\n",
        "        for j in range(i - 1, -1, -1):\n",
        "            if jobs[j].end <= jobs[i].start:\n",
        "                last_non_conflict_index = j\n",
        "                break\n",
        "\n",
        "        # Add profit from the last non-conflicting job if it exists\n",
        "        if last_non_conflict_index != -1:\n",
        "            incl_profit += dp[last_non_conflict_index]\n",
        "\n",
        "        # Select the maximum profit option (including or excluding the current job)\n",
        "        if incl_profit > dp[i - 1]:\n",
        "            dp[i] = incl_profit\n",
        "            selected_jobs[i] = (selected_jobs[last_non_conflict_index] if last_non_conflict_index != -1 else []) + [jobs[i]]\n",
        "        else:\n",
        "            dp[i] = dp[i - 1]\n",
        "            selected_jobs[i] = selected_jobs[i - 1]\n",
        "\n",
        "    return dp[-1], selected_jobs[-1]\n",
        "\n",
        "def main():\n",
        "    \"\"\"\n",
        "    Takes user input, processes job scheduling, and displays results.\n",
        "    \"\"\"\n",
        "    print(\"Enter the number of jobs:\")\n",
        "    n = int(input().strip())\n",
        "\n",
        "    jobs = []\n",
        "\n",
        "    print(\"Enter the job START TIME, END TIME, and PROFIT:\")\n",
        "    for _ in range(n):\n",
        "        start_time = int(input().strip())\n",
        "        end_time = int(input().strip())\n",
        "        profit = int(input().strip())\n",
        "        jobs.append(Job(start_time, end_time, profit))\n",
        "\n",
        "    # Compute maximum profit and selected jobs\n",
        "    max_profit, selected_jobs_list = max_profit_jobs(jobs)\n",
        "\n",
        "    # Compute total earnings from all jobs\n",
        "    total_earnings = sum(job.profit for job in jobs)\n",
        "\n",
        "    # Compute earnings and number of remaining jobs\n",
        "    remaining_earnings = total_earnings - max_profit\n",
        "    remaining_jobs_count = n - len(selected_jobs_list)\n",
        "\n",
        "    print(\"The number of tasks and earnings available for others:\")\n",
        "    print(f\"Remaining Tasks: {remaining_jobs_count}\")\n",
        "    print(f\"Remaining Earnings: {remaining_earnings}\")\n",
        "\n",
        "if __name__ == \"__main__\":\n",
        "    main()\n"
      ]
    },
    {
      "cell_type": "code",
      "source": [],
      "metadata": {
        "id": "dOj1jCvBoz6K"
      },
      "execution_count": null,
      "outputs": []
    }
  ]
}